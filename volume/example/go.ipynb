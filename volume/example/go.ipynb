{
 "cells": [
  {
   "cell_type": "markdown",
   "metadata": {},
   "source": [
    "# GO\n",
    "## Version"
   ]
  },
  {
   "cell_type": "code",
   "execution_count": 1,
   "metadata": {},
   "outputs": [
    {
     "name": "stdout",
     "output_type": "stream",
     "text": [
      "Go: go1.9.6 (linux_amd64)\n",
      "User: root\n",
      "Working dir: /root/volume/example\n",
      "NumCPU: 8\n"
     ]
    }
   ],
   "source": [
    "import (\n",
    "    \"fmt\"\n",
    "    \"os\"\n",
    "    \"os/user\"\n",
    "    \"runtime\"\n",
    ")\n",
    "\n",
    "{\n",
    "    user, _ := user.Current()\n",
    "    fmt.Printf(\"Go: %s (%s_%s)\\n\", runtime.Version(), runtime.GOOS, runtime.GOARCH)\n",
    "    fmt.Printf(\"User: %s\\n\", user.Username)\n",
    "    wd, _ := os.Getwd()\n",
    "    fmt.Printf(\"Working dir: %s\\n\", wd)\n",
    "    fmt.Printf(\"NumCPU: %d\\n\", runtime.NumCPU())\n",
    "}"
   ]
  },
  {
   "cell_type": "code",
   "execution_count": null,
   "metadata": {},
   "outputs": [],
   "source": []
  }
 ],
 "metadata": {
  "kernelspec": {
   "display_name": "Go (lgo)",
   "language": "go",
   "name": "lgo"
  },
  "language_info": {
   "file_extension": "",
   "mimetype": "",
   "name": "go",
   "version": ""
  },
  "toc": {
   "base_numbering": 1,
   "nav_menu": {},
   "number_sections": true,
   "sideBar": true,
   "skip_h1_title": false,
   "title_cell": "Table of Contents",
   "title_sidebar": "Contents",
   "toc_cell": false,
   "toc_position": {},
   "toc_section_display": true,
   "toc_window_display": false
  }
 },
 "nbformat": 4,
 "nbformat_minor": 2
}
